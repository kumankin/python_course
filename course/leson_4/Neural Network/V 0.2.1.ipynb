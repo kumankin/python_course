{
 "cells": [
  {
   "cell_type": "code",
   "execution_count": 1,
   "metadata": {},
   "outputs": [],
   "source": [
    "import numpy as np\n",
    "from keras.datasets import mnist\n",
    "import matplotlib.pyplot as plt\n",
    "%matplotlib inline"
   ]
  },
  {
   "cell_type": "code",
   "execution_count": 2,
   "metadata": {},
   "outputs": [],
   "source": [
    "(x_train, y_train), (x_test, y_test) = mnist.load_data() "
   ]
  },
  {
   "cell_type": "code",
   "execution_count": 3,
   "metadata": {},
   "outputs": [],
   "source": [
    "images, labels = x_train[0:1000] / 255, y_train[0:1000]\n",
    "\n",
    "relu = lambda x: (x > 0) * x"
   ]
  },
  {
   "cell_type": "code",
   "execution_count": 4,
   "metadata": {},
   "outputs": [
    {
     "data": {
      "text/plain": [
       "<matplotlib.image.AxesImage at 0x2bb8700d430>"
      ]
     },
     "execution_count": 4,
     "metadata": {},
     "output_type": "execute_result"
    },
    {
     "data": {
      "image/png": "[encoded data removed]",
      "text/plain": [
       "<Figure size 432x288 with 1 Axes>"
      ]
     },
     "metadata": {
      "needs_background": "light"
     },
     "output_type": "display_data"
    }
   ],
   "source": [
    "index = 501\n",
    "plt.imshow(images[index], cmap='Greys')"
   ]
  },
  {
   "cell_type": "code",
   "execution_count": 18,
   "metadata": {},
   "outputs": [
    {
     "data": {
      "text/plain": [
       "<matplotlib.image.AxesImage at 0x2bb874af130>"
      ]
     },
     "execution_count": 18,
     "metadata": {},
     "output_type": "execute_result"
    },
    {
     "data": {
      "image/png": "[encoded data removed]",
      "text/plain": [
       "<Figure size 432x288 with 1 Axes>"
      ]
     },
     "metadata": {
      "needs_background": "light"
     },
     "output_type": "display_data"
    }
   ],
   "source": [
    "nuclear_rank = 3\n",
    "sv_weights_1 = np.eye(3)\n",
    "nuclear = np.array([[0.5, 0.5, 0.5],\n",
    "                    [0.5, 0.5, 0.5],\n",
    "                    [0.5, 0.5, 0.5]])\n",
    "rank = images[1].shape[1] - nuclear_rank\n",
    "sv_layer_1 = np.zeros((rank + 1, rank + 1))\n",
    "for y in range(rank + 1):\n",
    "    for x in range(rank + 1):\n",
    "        for j in range(nuclear_rank):\n",
    "            for i in range(nuclear_rank):\n",
    "                nuclear[i][j] = images[501][x + i][y + j]\n",
    "        sv_layer_1[x][y] = relu(nuclear.dot(sv_weights_1).sum())\n",
    "plt.imshow(sv_layer_1, cmap='Greys')"
   ]
  },
  {
   "cell_type": "code",
   "execution_count": 6,
   "metadata": {},
   "outputs": [
    {
     "data": {
      "text/plain": [
       "<matplotlib.image.AxesImage at 0x2bb87144610>"
      ]
     },
     "execution_count": 6,
     "metadata": {},
     "output_type": "execute_result"
    },
    {
     "data": {
      "image/png": "[encoded data removed]",
      "text/plain": [
       "<Figure size 432x288 with 1 Axes>"
      ]
     },
     "metadata": {
      "needs_background": "light"
     },
     "output_type": "display_data"
    }
   ],
   "source": [
    "nuclear_rank = 2\n",
    "nuclear = np.zeros((nuclear_rank, nuclear_rank))\n",
    "rank = sv_layer_1.shape[1] // 2\n",
    "sv_layer_2 = np.zeros((rank,  rank))\n",
    "for y in range(rank):\n",
    "    for x in range(rank):\n",
    "        for j in range(nuclear_rank):\n",
    "            for i in range(nuclear_rank):\n",
    "                nuclear[i][j] = sv_layer_1[2 * x + i][2 * y + j]\n",
    "        sv_layer_2[x][y] = nuclear.argmax()\n",
    "plt.imshow(sv_layer_2, cmap='Greys')"
   ]
  },
  {
   "cell_type": "code",
   "execution_count": 7,
   "metadata": {},
   "outputs": [
    {
     "data": {
      "text/plain": [
       "<matplotlib.image.AxesImage at 0x2bb871a09d0>"
      ]
     },
     "execution_count": 7,
     "metadata": {},
     "output_type": "execute_result"
    },
    {
     "data": {
      "image/png": "[encoded data removed]",
      "text/plain": [
       "<Figure size 432x288 with 1 Axes>"
      ]
     },
     "metadata": {
      "needs_background": "light"
     },
     "output_type": "display_data"
    }
   ],
   "source": [
    "nuclear_rank = 3\n",
    "sv_weights_1 = np.eye(3)\n",
    "nuclear = np.zeros((nuclear_rank, nuclear_rank))\n",
    "rank = sv_layer_2.shape[1] - nuclear_rank\n",
    "sv_layer_3 = np.zeros((rank + 1, rank + 1))\n",
    "for y in range(rank + 1):\n",
    "    for x in range(rank + 1):\n",
    "        for j in range(nuclear_rank):\n",
    "            for i in range(nuclear_rank):\n",
    "                nuclear[i][j] = sv_layer_2[x + i][y + j]\n",
    "        sv_layer_3[x][y] = relu(nuclear.dot(sv_weights_1).sum())\n",
    "plt.imshow(sv_layer_3, cmap='Greys')"
   ]
  },
  {
   "cell_type": "code",
   "execution_count": 8,
   "metadata": {},
   "outputs": [
    {
     "data": {
      "text/plain": [
       "<matplotlib.image.AxesImage at 0x2bb871f1d00>"
      ]
     },
     "execution_count": 8,
     "metadata": {},
     "output_type": "execute_result"
    },
    {
     "data": {
      "image/png": "[encoded data removed]",
      "text/plain": [
       "<Figure size 432x288 with 1 Axes>"
      ]
     },
     "metadata": {
      "needs_background": "light"
     },
     "output_type": "display_data"
    }
   ],
   "source": [
    "nuclear_rank = 2\n",
    "nuclear = np.zeros((nuclear_rank, nuclear_rank))\n",
    "rank = sv_layer_3.shape[1] // 2\n",
    "sv_layer_4 = np.zeros((rank,  rank))\n",
    "for y in range(rank):\n",
    "    for x in range(rank):\n",
    "        for j in range(nuclear_rank):\n",
    "            for i in range(nuclear_rank):\n",
    "                nuclear[i][j] = sv_layer_3[2 * x + i][2 * y + j]\n",
    "        sv_layer_4[x][y] = nuclear.argmax()\n",
    "plt.imshow(sv_layer_4, cmap='Greys')"
   ]
  },
  {
   "cell_type": "code",
   "execution_count": 9,
   "metadata": {},
   "outputs": [
    {
     "data": {
      "text/plain": [
       "array([[1., 0., 0.],\n",
       "       [0., 1., 0.],\n",
       "       [0., 0., 1.]])"
      ]
     },
     "execution_count": 9,
     "metadata": {},
     "output_type": "execute_result"
    }
   ],
   "source": [
    "np.eye(3)"
   ]
  },
  {
   "cell_type": "code",
   "execution_count": 10,
   "metadata": {},
   "outputs": [
    {
     "data": {
      "text/plain": [
       "13"
      ]
     },
     "execution_count": 10,
     "metadata": {},
     "output_type": "execute_result"
    }
   ],
   "source": [
    "sv_layer_2.shape[1]"
   ]
  },
  {
   "cell_type": "code",
   "execution_count": null,
   "metadata": {},
   "outputs": [],
   "source": []
  }
 ],
 "metadata": {
  "kernelspec": {
   "display_name": "Python 3",
   "language": "python",
   "name": "python3"
  },
  "language_info": {
   "codemirror_mode": {
    "name": "ipython",
    "version": 3
   },
   "file_extension": ".py",
   "mimetype": "text/x-python",
   "name": "python",
   "nbconvert_exporter": "python",
   "pygments_lexer": "ipython3",
   "version": "3.8.5"
  },
  "toc": {
   "base_numbering": 1,
   "nav_menu": {},
   "number_sections": true,
   "sideBar": true,
   "skip_h1_title": false,
   "title_cell": "Table of Contents",
   "title_sidebar": "Contents",
   "toc_cell": false,
   "toc_position": {},
   "toc_section_display": true,
   "toc_window_display": false
  }
 },
 "nbformat": 4,
 "nbformat_minor": 4
}
