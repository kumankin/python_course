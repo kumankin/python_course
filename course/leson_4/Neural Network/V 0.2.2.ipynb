{
 "cells": [
  {
   "cell_type": "code",
   "execution_count": 6,
   "metadata": {
    "code_folding": [
     51,
     55
    ]
   },
   "outputs": [
    {
     "ename": "ValueError",
     "evalue": "operands could not be broadcast together with shapes (1,100) (1,676) ",
     "output_type": "error",
     "traceback": [
      "\u001b[1;31m---------------------------------------------------------------------------\u001b[0m",
      "\u001b[1;31mValueError\u001b[0m                                Traceback (most recent call last)",
      "\u001b[1;32m<ipython-input-6-64c13d212a30>\u001b[0m in \u001b[0;36m<module>\u001b[1;34m\u001b[0m\n\u001b[0;32m     63\u001b[0m         \u001b[0mlayer_4_delta\u001b[0m \u001b[1;33m=\u001b[0m \u001b[0mlayer_5_delta\u001b[0m\u001b[1;33m.\u001b[0m\u001b[0mdot\u001b[0m\u001b[1;33m(\u001b[0m\u001b[0mweights_layer_4_5\u001b[0m\u001b[1;33m.\u001b[0m\u001b[0mT\u001b[0m\u001b[1;33m)\u001b[0m \u001b[1;33m*\u001b[0m \u001b[0mrelu_deriv\u001b[0m\u001b[1;33m(\u001b[0m\u001b[0mlayer_4\u001b[0m\u001b[1;33m)\u001b[0m\u001b[1;33m\u001b[0m\u001b[1;33m\u001b[0m\u001b[0m\n\u001b[0;32m     64\u001b[0m         \u001b[0mlayer_4_delta\u001b[0m \u001b[1;33m*=\u001b[0m \u001b[0mdropout_mask\u001b[0m\u001b[1;33m\u001b[0m\u001b[1;33m\u001b[0m\u001b[0m\n\u001b[1;32m---> 65\u001b[1;33m         \u001b[0mlayer_3_delta\u001b[0m \u001b[1;33m=\u001b[0m \u001b[0mlayer_4_delta\u001b[0m \u001b[1;33m*\u001b[0m \u001b[0mrelu_deriv\u001b[0m\u001b[1;33m(\u001b[0m\u001b[0mlayer_3\u001b[0m\u001b[1;33m)\u001b[0m\u001b[1;33m\u001b[0m\u001b[1;33m\u001b[0m\u001b[0m\n\u001b[0m\u001b[0;32m     66\u001b[0m         \u001b[1;32mfor\u001b[0m \u001b[0my\u001b[0m \u001b[1;32min\u001b[0m \u001b[0mrange\u001b[0m\u001b[1;33m(\u001b[0m\u001b[0mlayer_3_delta\u001b[0m\u001b[1;33m.\u001b[0m\u001b[0mshape\u001b[0m\u001b[1;33m[\u001b[0m\u001b[1;36m1\u001b[0m\u001b[1;33m]\u001b[0m\u001b[1;33m)\u001b[0m\u001b[1;33m:\u001b[0m\u001b[1;33m\u001b[0m\u001b[1;33m\u001b[0m\u001b[0m\n\u001b[0;32m     67\u001b[0m             \u001b[1;32mfor\u001b[0m \u001b[0mx\u001b[0m \u001b[1;32min\u001b[0m \u001b[0mrange\u001b[0m\u001b[1;33m(\u001b[0m\u001b[0mrank_layer_conv_1\u001b[0m\u001b[1;33m)\u001b[0m\u001b[1;33m:\u001b[0m\u001b[1;33m\u001b[0m\u001b[1;33m\u001b[0m\u001b[0m\n",
      "\u001b[1;31mValueError\u001b[0m: operands could not be broadcast together with shapes (1,100) (1,676) "
     ]
    }
   ],
   "source": [
    "import numpy as np\n",
    "from keras.datasets import mnist\n",
    "import matplotlib.pyplot as plt\n",
    "%matplotlib inline\n",
    "\n",
    "(x_train, y_train), (x_test, y_test) = mnist.load_data()\n",
    "\n",
    "images = x_train[0:1000] / 255\n",
    "labels = y_train[0:1000]\n",
    "one_hot_labels = np.zeros((len(labels), 10))\n",
    "for i, j in enumerate(labels):\n",
    "    one_hot_labels[i][j] = 1\n",
    "labels = one_hot_labels\n",
    "\n",
    "test_images = x_test / 255\n",
    "test_labels = np.zeros((len(y_test), 10))\n",
    "for i, j in enumerate(y_test):\n",
    "    test_labels[i][j] = 1\n",
    "\n",
    "np.random.seed()\n",
    "alpha = 0.005\n",
    "max_iteration = 30\n",
    "rank_kernel_conv = 3\n",
    "layer_3_size = 26 * 26\n",
    "layer_4_size = 100\n",
    "layer_5_size = 10\n",
    "\n",
    "relu = lambda x: (x > 0) * x\n",
    "relu_deriv = lambda x: x >= 0\n",
    "\n",
    "weights_kernel_conv_1_2 = 0.2 * np.random.random((rank_kernel_conv, rank_kernel_conv)) - 0.1\n",
    "weights_layer_3_4 = 0.2 * np.random.random((layer_3_size, layer_4_size)) - 0.1\n",
    "weights_layer_4_5 = 0.2 * np.random.random((layer_4_size, layer_5_size)) - 0.1\n",
    "\n",
    "for iteration in range(max_iteration):\n",
    "    error_prediction = 0\n",
    "    correct_cnt = 0\n",
    "    \n",
    "    for image_number in range(len(images)):\n",
    "        layer_0 = images[image_number]\n",
    "        \n",
    "        rank_layer_conv_1 = layer_0.shape[1] - rank_kernel_conv + 1\n",
    "        layer_conv_1 = np.zeros((rank_layer_conv_1, rank_layer_conv_1))\n",
    "        \n",
    "        for y in range(rank_layer_conv_1):\n",
    "            for x in range(rank_layer_conv_1):\n",
    "                cell = np.zeros((rank_kernel_conv, rank_kernel_conv))\n",
    "                for j in range(rank_kernel_conv):\n",
    "                    for i in range(rank_kernel_conv):\n",
    "                        cell[i][j] = layer_0[x + i][y + j]\n",
    "                layer_conv_1[x][y] = relu(cell.dot(weights_kernel_conv_1_2).sum())\n",
    "\n",
    "        layer_3 = layer_conv_1.reshape(1, len(layer_conv_1) ** 2)\n",
    "        layer_4 = relu(np.dot(layer_3, weights_layer_3_4))\n",
    "        dropout_mask = np.random.randint(2, size = layer_4.shape)\n",
    "        layer_4 *= dropout_mask * 2\n",
    "        layer_5 = np.dot(layer_4, weights_layer_4_5)        \n",
    "        \n",
    "        error_prediction += np.sum((labels[image_number:image_number+1] - layer_5) ** 2)\n",
    "        correct_cnt += int(np.argmax(layer_5)) == np.argmax(labels[image_number:image_number+1])\n",
    "        \n",
    "        layer_5_delta = (labels[image_number:image_number+1] - layer_5)\n",
    "        layer_4_delta = layer_5_delta.dot(weights_layer_4_5.T) * relu_deriv(layer_4)\n",
    "        layer_4_delta *= dropout_mask\n",
    "        layer_3_delta = layer_4_delta * relu_deriv(layer_3)\n",
    "        for y in range(layer_3_delta.shape[1]):\n",
    "            for x in range(rank_layer_conv_1):\n",
    "                cell = np.zeros((rank_kernel_conv, rank_kernel_conv))\n",
    "                for j in range(rank_kernel_conv):\n",
    "                    for i in range(rank_kernel_conv):\n",
    "                        cell[i][j] = layer_0[x + i][y + j]\n",
    "                layer_conv_1[x][y] = relu(cell.dot(weights_kernel_conv_1_2).sum())\n",
    "        \n",
    "        #weights_layer_4_5 += alpha * layer_4.T.dot(layer_5_delta)\n",
    "        #weights_layer_3_4 += alpha * layer_3.T.dot(layer_4_delta)\n",
    "       "
   ]
  },
  {
   "cell_type": "code",
   "execution_count": null,
   "metadata": {},
   "outputs": [],
   "source": []
  }
 ],
 "metadata": {
  "kernelspec": {
   "display_name": "Python 3",
   "language": "python",
   "name": "python3"
  },
  "language_info": {
   "codemirror_mode": {
    "name": "ipython",
    "version": 3
   },
   "file_extension": ".py",
   "mimetype": "text/x-python",
   "name": "python",
   "nbconvert_exporter": "python",
   "pygments_lexer": "ipython3",
   "version": "3.8.5"
  },
  "toc": {
   "base_numbering": 1,
   "nav_menu": {},
   "number_sections": true,
   "sideBar": true,
   "skip_h1_title": false,
   "title_cell": "Table of Contents",
   "title_sidebar": "Contents",
   "toc_cell": false,
   "toc_position": {},
   "toc_section_display": true,
   "toc_window_display": false
  }
 },
 "nbformat": 4,
 "nbformat_minor": 4
}
