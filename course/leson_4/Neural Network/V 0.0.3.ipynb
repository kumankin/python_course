{
 "cells": [
  {
   "cell_type": "code",
   "execution_count": 8,
   "metadata": {
    "code_folding": []
   },
   "outputs": [],
   "source": [
    "# поэлементное умножение\n",
    "def elementwise_multipication(vec_a, vec_b):\n",
    "    assert(len(vec_a) == len(vec_b))\n",
    "    output = []\n",
    "    for i in range(len(vec_a)):\n",
    "        output.append(vec_a[i] * vec_b[i])\n",
    "    return output\n",
    "\n",
    "# поэлементное сложение\n",
    "def elementwise_addition(vec_a, vec_b):\n",
    "    assert(len(vec_a) == len(vec_b))\n",
    "    output = []\n",
    "    for i in range(len(vec_a)):\n",
    "        output.append(vec_a[i] + vec_b[i])\n",
    "    return output\n",
    "\n",
    "# сумма элементов\n",
    "def vector_sum(vec_a):\n",
    "    output = 0\n",
    "    for i in range(len(vec_a)):\n",
    "        output += vec_a[i]\n",
    "    return output\n",
    "\n",
    "# сумма элементов\n",
    "def vector_average(vec_a):\n",
    "    output = vector_sum(vec_a) / len(vec_a)\n",
    "    return output"
   ]
  },
  {
   "cell_type": "code",
   "execution_count": 2,
   "metadata": {},
   "outputs": [
    {
     "data": {
      "text/plain": [
       "[0, 1, 4, 9, 16, 25]"
      ]
     },
     "execution_count": 2,
     "metadata": {},
     "output_type": "execute_result"
    }
   ],
   "source": [
    "vec_a = [0, 1, 2, 3, 4, 5]\n",
    "vec_b = [0, 1, 2, 3, 4, 5]\n",
    "\n",
    "elementwise_multipication(vec_a, vec_b)"
   ]
  },
  {
   "cell_type": "code",
   "execution_count": 3,
   "metadata": {},
   "outputs": [
    {
     "data": {
      "text/plain": [
       "[0, 2, 4, 6, 8, 10]"
      ]
     },
     "execution_count": 3,
     "metadata": {},
     "output_type": "execute_result"
    }
   ],
   "source": [
    "elementwise_addition(vec_a, vec_b)"
   ]
  },
  {
   "cell_type": "code",
   "execution_count": 4,
   "metadata": {},
   "outputs": [
    {
     "data": {
      "text/plain": [
       "15"
      ]
     },
     "execution_count": 4,
     "metadata": {},
     "output_type": "execute_result"
    }
   ],
   "source": [
    "vector_sum(vec_a)"
   ]
  },
  {
   "cell_type": "code",
   "execution_count": 9,
   "metadata": {},
   "outputs": [
    {
     "data": {
      "text/plain": [
       "2.5"
      ]
     },
     "execution_count": 9,
     "metadata": {},
     "output_type": "execute_result"
    }
   ],
   "source": [
    "vector_average(vec_a)"
   ]
  },
  {
   "cell_type": "code",
   "execution_count": null,
   "metadata": {},
   "outputs": [],
   "source": []
  }
 ],
 "metadata": {
  "kernelspec": {
   "display_name": "Python 3",
   "language": "python",
   "name": "python3"
  },
  "language_info": {
   "codemirror_mode": {
    "name": "ipython",
    "version": 3
   },
   "file_extension": ".py",
   "mimetype": "text/x-python",
   "name": "python",
   "nbconvert_exporter": "python",
   "pygments_lexer": "ipython3",
   "version": "3.8.5"
  },
  "toc": {
   "base_numbering": 1,
   "nav_menu": {},
   "number_sections": true,
   "sideBar": true,
   "skip_h1_title": false,
   "title_cell": "Table of Contents",
   "title_sidebar": "Contents",
   "toc_cell": false,
   "toc_position": {},
   "toc_section_display": true,
   "toc_window_display": false
  }
 },
 "nbformat": 4,
 "nbformat_minor": 4
}
