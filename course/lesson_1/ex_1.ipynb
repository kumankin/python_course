{
 "cells": [
  {
   "cell_type": "markdown",
   "source": [
    "# Основы Python "
   ],
   "metadata": {}
  },
  {
   "cell_type": "markdown",
   "source": [
    "## 1. Комментарии в Python "
   ],
   "metadata": {}
  },
  {
   "cell_type": "code",
   "execution_count": 1,
   "source": [
    "# Пример однострочного комментария\r\n",
    "\r\n",
    "# Так делают\r\n",
    "# многострочный комментарий"
   ],
   "outputs": [],
   "metadata": {}
  },
  {
   "cell_type": "markdown",
   "source": [
    "## 2. Важная особенность! Отсутствие операторных скобок.\r\n",
    "В Python в отличии от многих других языков блоки выделяются отступами!\r\n",
    "Вход в блок осуществляется двоеточием."
   ],
   "metadata": {}
  },
  {
   "cell_type": "code",
   "execution_count": 2,
   "source": [
    "# Пример разделения блоков отступами\r\n",
    "from random import randint\r\n",
    "\r\n",
    "def create_sort_array(n):\r\n",
    "    array = []\r\n",
    "    for i in range(n):\r\n",
    "        array.append(randint(1, 11))\r\n",
    "    return array\r\n",
    "\r\n",
    "print(create_sort_array(5))"
   ],
   "outputs": [
    {
     "output_type": "stream",
     "name": "stdout",
     "text": [
      "[9, 6, 6, 1, 8]\n"
     ]
    }
   ],
   "metadata": {}
  },
  {
   "cell_type": "markdown",
   "source": [
    "## 3. Переменные и операторы"
   ],
   "metadata": {}
  },
  {
   "cell_type": "code",
   "execution_count": 3,
   "source": [
    "new_var = 1 # Содаём переменную\r\n",
    "print(new_var)\r\n",
    "new_var += 1 # Прибавляем 1\r\n",
    "print(new_var)\r\n",
    "new_var -= 3 # Отнимаем 3\r\n",
    "print(new_var)\r\n",
    "new_var *= 3 # Умножаем на 3\r\n",
    "print(new_var)\r\n",
    "new_var /= 2 # Делим на 2\r\n",
    "print(new_var)\r\n",
    "new_var %= 2 # Остаток от деления на 2 (положительный)\r\n",
    "print(new_var)\r\n",
    "new_var **= -10 # Возведение в степень -10\r\n",
    "print(new_var)"
   ],
   "outputs": [
    {
     "output_type": "stream",
     "name": "stdout",
     "text": [
      "1\n",
      "2\n",
      "-1\n",
      "-3\n",
      "-1.5\n",
      "0.5\n",
      "1024.0\n"
     ]
    }
   ],
   "metadata": {}
  },
  {
   "cell_type": "markdown",
   "source": [
    "## 4. Типы данных\r\n",
    "Все данные в python являются объектами. \r\n",
    "Существуют изменяемые и неизменяемые типы данных.\r\n",
    "\r\n",
    "Неизменяемые:\r\n",
    "* числа,\r\n",
    "\r\n",
    "Изменяемые:\r\n",
    "*  "
   ],
   "metadata": {}
  },
  {
   "cell_type": "markdown",
   "source": [
    "### 4.1. Числа"
   ],
   "metadata": {}
  },
  {
   "cell_type": "code",
   "execution_count": 12,
   "source": [],
   "outputs": [
    {
     "output_type": "stream",
     "name": "stdout",
     "text": [
      "2897232490448\n",
      "2897232678960\n",
      "2897232678960\n",
      "2897232678992\n",
      "2897232678960\n"
     ]
    }
   ],
   "metadata": {}
  },
  {
   "cell_type": "markdown",
   "source": [
    "## Функции"
   ],
   "metadata": {}
  },
  {
   "cell_type": "code",
   "execution_count": 4,
   "source": [
    "def new_function(arg_1, arg_2):\r\n",
    "    print(f\"This {arg_1} and this {arg_2}\")\r\n",
    "\r\n",
    "new_function(10, 20)"
   ],
   "outputs": [
    {
     "output_type": "stream",
     "name": "stdout",
     "text": [
      "This 10 and this 20\n"
     ]
    }
   ],
   "metadata": {}
  },
  {
   "cell_type": "code",
   "execution_count": null,
   "source": [],
   "outputs": [],
   "metadata": {}
  }
 ],
 "metadata": {
  "orig_nbformat": 4,
  "language_info": {
   "name": "python",
   "version": "3.9.6",
   "mimetype": "text/x-python",
   "codemirror_mode": {
    "name": "ipython",
    "version": 3
   },
   "pygments_lexer": "ipython3",
   "nbconvert_exporter": "python",
   "file_extension": ".py"
  },
  "kernelspec": {
   "name": "python3",
   "display_name": "Python 3.9.6 64-bit"
  },
  "interpreter": {
   "hash": "80bd1fe2dd3362590867ecd631b405571a83f254ca29190abd10043610dd32be"
  }
 },
 "nbformat": 4,
 "nbformat_minor": 2
}