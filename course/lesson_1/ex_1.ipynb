{
 "cells": [
  {
   "cell_type": "markdown",
   "source": [
    "# Основы Python "
   ],
   "metadata": {}
  },
  {
   "cell_type": "markdown",
   "source": [
    "## 1. Комментарии в Python\r\n",
    "В Python имеются как однострочные комметарии, так и многострочные. Но как правило многострочные комментарии используются для описания функции в IDE.  "
   ],
   "metadata": {}
  },
  {
   "cell_type": "code",
   "execution_count": 47,
   "source": [
    "# Пример однострочного комментария\r\n",
    "\r\n",
    "# Так делают\r\n",
    "# многострочный комментарий\r\n",
    "\r\n",
    "\"\"\"\r\n",
    "Можно и так,\r\n",
    "но не приветствуется.\r\n",
    "\"\"\""
   ],
   "outputs": [
    {
     "output_type": "execute_result",
     "data": {
      "text/plain": [
       "'\\nМожно и так,\\nно не приветствуется.\\n'"
      ]
     },
     "metadata": {},
     "execution_count": 47
    }
   ],
   "metadata": {}
  },
  {
   "cell_type": "markdown",
   "source": [
    "## 2. Важная особенность! Отсутствие операторных скобок.\r\n",
    "В Python в отличии от многих других языков блоки выделяются отступами!\r\n",
    "Вход в блок осуществляется двоеточием."
   ],
   "metadata": {}
  },
  {
   "cell_type": "code",
   "execution_count": 48,
   "source": [
    "# Пример разделения блоков отступами\r\n",
    "from random import randint\r\n",
    "\r\n",
    "def create_sort_array(n):\r\n",
    "    array = []\r\n",
    "    for i in range(n):\r\n",
    "        array.append(randint(1, 11))\r\n",
    "    return array\r\n",
    "\r\n",
    "print(create_sort_array(5))"
   ],
   "outputs": [
    {
     "output_type": "stream",
     "name": "stdout",
     "text": [
      "[10, 8, 1, 11, 9]\n"
     ]
    }
   ],
   "metadata": {}
  },
  {
   "cell_type": "markdown",
   "source": [
    "## 3. Переменные и операторы"
   ],
   "metadata": {}
  },
  {
   "cell_type": "code",
   "execution_count": 49,
   "source": [
    "new_var = 1 # Содаём переменную\r\n",
    "print(new_var)\r\n",
    "new_var += 1 # Прибавляем 1\r\n",
    "print(new_var)\r\n",
    "new_var -= 3 # Отнимаем 3\r\n",
    "print(new_var)\r\n",
    "new_var *= 3 # Умножаем на 3\r\n",
    "print(new_var)\r\n",
    "new_var /= 2 # Делим на 2\r\n",
    "print(new_var)\r\n",
    "new_var %= 2 # Остаток от деления на 2 (положительный)\r\n",
    "print(new_var)\r\n",
    "new_var **= -10 # Возведение в степень -10\r\n",
    "print(new_var)"
   ],
   "outputs": [
    {
     "output_type": "stream",
     "name": "stdout",
     "text": [
      "1\n",
      "2\n",
      "-1\n",
      "-3\n",
      "-1.5\n",
      "0.5\n",
      "1024.0\n"
     ]
    }
   ],
   "metadata": {}
  }
 ],
 "metadata": {
  "orig_nbformat": 4,
  "language_info": {
   "name": "python",
   "version": "3.9.6",
   "mimetype": "text/x-python",
   "codemirror_mode": {
    "name": "ipython",
    "version": 3
   },
   "pygments_lexer": "ipython3",
   "nbconvert_exporter": "python",
   "file_extension": ".py"
  },
  "kernelspec": {
   "name": "python3",
   "display_name": "Python 3.9.6 64-bit"
  },
  "interpreter": {
   "hash": "80bd1fe2dd3362590867ecd631b405571a83f254ca29190abd10043610dd32be"
  }
 },
 "nbformat": 4,
 "nbformat_minor": 2
}